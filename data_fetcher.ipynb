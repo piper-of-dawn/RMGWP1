{
 "cells": [
  {
   "cell_type": "code",
   "execution_count": null,
   "metadata": {},
   "outputs": [],
   "source": [
    "from prettyprinter import pprint\n",
    "import polars as pl\n",
    "import asyncio\n",
    "import httpx\n"
   ]
  },
  {
   "cell_type": "code",
   "execution_count": null,
   "metadata": {},
   "outputs": [],
   "source": [
    "series_ids = [\n",
    "    \"STEO.RGDPQ_NONOECD.M\",\n",
    "    \"STEO.RGDPQ_OECD.M\",\n",
    "    \"STEO.PAPR_NONOPEC.M\",\n",
    "    \"STEO.PAPR_OPEC.M\",\n",
    "    \"STEO.PATC_OECD.M\",\n",
    "    \"STEO.PATC_NON_OECD.M\",\n",
    "    \"STEO.COPRPUS.M\",\n",
    "    \"STEO.CORIPUS.M\",\n",
    "    \"STEO.FOREX_WORLD.M\",\n",
    "    \"STEO.PASC_OECD_T3.M\",\n",
    "    \"STEO.COPS_OPEC.M\",\n",
    "    \"STEO.COPC_OPEC.M\",\n",
    "    \"STEO.T3_STCHANGE_OOECD.M\",\n",
    "    \"STEO.T3_STCHANGE_NOECD.M\"\n",
    "]\n",
    "\n",
    "X_Params = {\n",
    "    \"frequency\": \"monthly\",\n",
    "    \"data\": [\n",
    "        \"value\"\n",
    "    ],\n",
    "    \"facets\": {},\n",
    "    \"start\": \"2000-01\",\n",
    "    \"end\": \"2024-01\",\n",
    "    \"sort\": [\n",
    "        {\n",
    "            \"column\": \"period\",\n",
    "            \"direction\": \"desc\"\n",
    "        }\n",
    "    ],\n",
    "    \"offset\": 0,\n",
    "\n",
    "}\n",
    "\n",
    "API_KEY = \"caGyhsgCC3brWOYqKDFMtPc16VPABFzHr3PIfHf7\""
   ]
  },
  {
   "cell_type": "code",
   "execution_count": null,
   "metadata": {},
   "outputs": [],
   "source": [
    "async def fetch_eia_data(series_id: str, headers: dict = {}):\n",
    "    url = f\"https://api.eia.gov/v2/seriesid/{series_id}?api_key={API_KEY}\"\n",
    "    async with httpx.AsyncClient() as client:\n",
    "        response = await client.get(url)\n",
    "        response.raise_for_status()  \n",
    "        return response.json()\n",
    "\n",
    "\n",
    "async def get_all_data (list_of_series_id: list, headers: dict = {}):\n",
    "    tasks = [fetch_eia_data(series_id, headers) for series_id in list_of_series_id]\n",
    "    return await asyncio.gather(*tasks)\n",
    "\n",
    "\n",
    "responses = await get_all_data(list_of_series_id=series_ids,headers=X_Params)\n",
    "DATA = list(map(lambda x: pl.DataFrame(x['response']['data']), filter(lambda x: len(x['response']['data']), responses)))"
   ]
  },
  {
   "cell_type": "code",
   "execution_count": null,
   "metadata": {},
   "outputs": [],
   "source": [
    "metadata = {\n",
    "    \"series_id\": list(map(lambda x: x['seriesId'][0], DATA)),\n",
    "    \"description\": list(map(lambda x: x['seriesDescription'][0], DATA)),\n",
    "    \"unit\": list(map(lambda x: x['unit'][0], DATA)),\n",
    "    \"n_observations\": list(map(lambda x: x.shape[0], DATA)),\n",
    "    }\n"
   ]
  },
  {
   "cell_type": "code",
   "execution_count": null,
   "metadata": {},
   "outputs": [],
   "source": [
    "print(pl.DataFrame(metadata).to_pandas().to_markdown(index=False))"
   ]
  },
  {
   "cell_type": "code",
   "execution_count": null,
   "metadata": {},
   "outputs": [],
   "source": [
    "import pickle\n",
    "with open(\"DATA.pkl\", \"wb\") as f:\n",
    "    pickle.dump(list(map(lambda x: x.to_pandas(), DATA)), f)"
   ]
  },
  {
   "cell_type": "code",
   "execution_count": null,
   "metadata": {},
   "outputs": [],
   "source": [
    "\n",
    "# First plot\n",
    "multivariate_density(x=DATA[0][\"value\"], y=DATA[1][\"value\"], \n",
    "                     x_label=\"GDP Non-OECD\", y_label=\"GDP OECD\", title=\"Supply Non-OECD vs Supply OECD\")\n",
    "\n",
    "# Second plot\n",
    "multivariate_density(x=DATA[2][\"value\"], y=DATA[3][\"value\"], \n",
    "                     x_label=metadata['description'][2], y_label=metadata['description'][3], title=\"Consumption Non-OECD vs Consumption OECD\")\n",
    "\n",
    "\n"
   ]
  },
  {
   "cell_type": "code",
   "execution_count": 2,
   "metadata": {},
   "outputs": [
    {
     "name": "stdout",
     "output_type": "stream",
     "text": [
      "[*********************100%%**********************]  1 of 1 completed\n"
     ]
    }
   ],
   "source": [
    "from utils import get_data as gd\n",
    "oil = gd.TimeSeries(\"CL=F\")"
   ]
  },
  {
   "cell_type": "code",
   "execution_count": 21,
   "metadata": {},
   "outputs": [
    {
     "name": "stdout",
     "output_type": "stream",
     "text": [
      "HW\n"
     ]
    }
   ],
   "source": [
    "def filter_uppercase(s):\n",
    "    return ''.join([c for c in s if c.isupper()])"
   ]
  },
  {
   "cell_type": "code",
   "execution_count": 25,
   "metadata": {},
   "outputs": [
    {
     "data": {
      "text/html": [
       "<div><style>\n",
       ".dataframe > thead > tr,\n",
       ".dataframe > tbody > tr {\n",
       "  text-align: right;\n",
       "  white-space: pre-wrap;\n",
       "}\n",
       "</style>\n",
       "<small>shape: (24, 37)</small><table border=\"1\" class=\"dataframe\"><thead><tr><th>period</th><th>PSIAGO</th><th>PSIARE</th><th>PSIBRA</th><th>PSICAN</th><th>PSICHN</th><th>PSICOL</th><th>PSIDZA</th><th>PSIEGY</th><th>PSIGAB</th><th>PSIGNQ</th><th>PSIIRN</th><th>PSIIRQ</th><th>PSIKAZ</th><th>PSIKWT</th><th>PSILBN</th><th>PSILBR</th><th>PSILBY</th><th>PSILCA</th><th>PSIMEX</th><th>PSIMYS</th><th>PSINGA</th><th>PSINLD</th><th>PSINOR</th><th>PSIOMN</th><th>PSIQAT</th><th>PSIRUS</th><th>PSISAU</th><th>PSISDN</th><th>PSISYR</th><th>PSITKM</th><th>PSITTO</th><th>PSITUN</th><th>PSIUSA</th><th>PSIUZB</th><th>PSIVEN</th><th>PSIYEM</th></tr><tr><td>str</td><td>f64</td><td>f64</td><td>f64</td><td>f64</td><td>f64</td><td>f64</td><td>f64</td><td>f64</td><td>f64</td><td>f64</td><td>f64</td><td>f64</td><td>f64</td><td>f64</td><td>f64</td><td>f64</td><td>f64</td><td>f64</td><td>f64</td><td>f64</td><td>f64</td><td>f64</td><td>f64</td><td>f64</td><td>f64</td><td>f64</td><td>f64</td><td>f64</td><td>f64</td><td>f64</td><td>f64</td><td>f64</td><td>f64</td><td>f64</td><td>f64</td><td>f64</td></tr></thead><tbody><tr><td>&quot;1996-01-01&quot;</td><td>-2.061917</td><td>0.964015</td><td>-0.22046</td><td>1.234052</td><td>-0.097849</td><td>-1.647859</td><td>-1.783311</td><td>-0.526032</td><td>0.125683</td><td>-0.131352</td><td>-0.324624</td><td>-1.817377</td><td>-0.367461</td><td>0.170836</td><td>-0.668953</td><td>-2.439463</td><td>-0.988059</td><td>1.035551</td><td>-0.925459</td><td>0.57122</td><td>-1.056908</td><td>1.526126</td><td>1.456822</td><td>0.873983</td><td>0.361695</td><td>-1.177854</td><td>-0.189458</td><td>-2.479532</td><td>-0.34796</td><td>0.449251</td><td>0.273877</td><td>0.262547</td><td>0.935006</td><td>-0.543732</td><td>-0.584048</td><td>-1.311538</td></tr><tr><td>&quot;1998-01-01&quot;</td><td>-2.318058</td><td>0.871309</td><td>-0.339506</td><td>0.950881</td><td>-0.394105</td><td>-1.793922</td><td>-1.878905</td><td>-0.02077</td><td>0.325021</td><td>-0.080598</td><td>-0.693391</td><td>-1.5338</td><td>0.194384</td><td>0.455113</td><td>-0.752315</td><td>-1.755551</td><td>-0.80974</td><td>0.350062</td><td>-0.423062</td><td>-0.038123</td><td>-0.588244</td><td>1.594803</td><td>1.439661</td><td>0.854953</td><td>1.058855</td><td>-1.089741</td><td>0.110229</td><td>-2.259968</td><td>-0.044107</td><td>0.197645</td><td>0.412276</td><td>0.263467</td><td>0.879613</td><td>-0.683049</td><td>-0.537717</td><td>-1.192847</td></tr><tr><td>&quot;2000-01-01&quot;</td><td>-2.038174</td><td>0.975434</td><td>0.184102</td><td>1.167527</td><td>-0.209917</td><td>-1.608961</td><td>-1.432577</td><td>0.049798</td><td>0.640211</td><td>-0.035039</td><td>-0.727548</td><td>-1.732643</td><td>0.09009</td><td>0.752233</td><td>-0.439045</td><td>-1.952881</td><td>-0.294287</td><td>1.2236</td><td>-0.20021</td><td>0.092691</td><td>-1.455326</td><td>1.758681</td><td>1.533283</td><td>1.121425</td><td>1.157301</td><td>-1.399242</td><td>0.227822</td><td>-2.244173</td><td>-0.180451</td><td>0.008447</td><td>0.153456</td><td>0.321115</td><td>1.082809</td><td>-1.30195</td><td>-0.758917</td><td>-1.145441</td></tr><tr><td>&quot;2002-01-01&quot;</td><td>-1.57618</td><td>0.937275</td><td>0.3278</td><td>1.218032</td><td>-0.327627</td><td>-1.956714</td><td>-1.634565</td><td>-0.414172</td><td>0.410249</td><td>-0.514396</td><td>-0.773441</td><td>-1.601287</td><td>0.358549</td><td>-0.146744</td><td>-0.354815</td><td>-2.18962</td><td>-0.095381</td><td>0.362932</td><td>-0.058308</td><td>0.539594</td><td>-1.626329</td><td>1.30268</td><td>1.608346</td><td>0.928577</td><td>0.831209</td><td>-0.724512</td><td>0.002424</td><td>-1.846431</td><td>0.277536</td><td>0.070418</td><td>-0.094292</td><td>0.154226</td><td>0.285477</td><td>-1.056884</td><td>-1.317897</td><td>-1.30688</td></tr><tr><td>&quot;2003-01-01&quot;</td><td>-1.007386</td><td>0.99465</td><td>0.004214</td><td>1.053077</td><td>-0.565358</td><td>-2.376027</td><td>-1.754409</td><td>-0.640925</td><td>0.299039</td><td>0.114631</td><td>-0.779733</td><td>-2.393245</td><td>0.35626</td><td>0.294287</td><td>-0.459643</td><td>-2.159393</td><td>0.120704</td><td>1.169785</td><td>-0.116878</td><td>0.485535</td><td>-1.635588</td><td>1.161806</td><td>1.204556</td><td>1.061506</td><td>1.186481</td><td>-1.193152</td><td>0.141018</td><td>-1.977056</td><td>0.063645</td><td>0.053216</td><td>-0.250032</td><td>0.317871</td><td>0.08044</td><td>-1.299195</td><td>-1.286445</td><td>-1.481762</td></tr><tr><td>&quot;2004-01-01&quot;</td><td>-1.063121</td><td>0.768758</td><td>-0.275993</td><td>0.876447</td><td>-0.390681</td><td>-2.271226</td><td>-1.359188</td><td>-0.822402</td><td>0.408171</td><td>-0.059478</td><td>-0.761824</td><td>-3.180352</td><td>0.070388</td><td>0.34524</td><td>-0.713361</td><td>-1.365386</td><td>0.355681</td><td>1.218339</td><td>-0.214082</td><td>0.348004</td><td>-1.754416</td><td>1.016239</td><td>1.196618</td><td>1.115968</td><td>1.123905</td><td>-1.514594</td><td>-0.654633</td><td>-1.549037</td><td>-0.285746</td><td>-0.115212</td><td>-0.068327</td><td>0.148958</td><td>-0.23304</td><td>-1.455517</td><td>-1.391586</td><td>-1.551187</td></tr><tr><td>&quot;2005-01-01&quot;</td><td>-0.885178</td><td>0.875413</td><td>-0.26338</td><td>0.828725</td><td>-0.501757</td><td>-2.057943</td><td>-0.913666</td><td>-0.629359</td><td>0.325626</td><td>-0.386099</td><td>-0.782739</td><td>-2.688648</td><td>0.190632</td><td>0.25369</td><td>-0.999741</td><td>-1.357909</td><td>0.448557</td><td>1.000115</td><td>-0.445821</td><td>0.566449</td><td>-1.6665</td><td>0.988101</td><td>1.295277</td><td>0.946495</td><td>1.027679</td><td>-1.267701</td><td>-0.240614</td><td>-1.973296</td><td>-0.461609</td><td>0.072713</td><td>-0.121956</td><td>0.024227</td><td>-0.060543</td><td>-1.957896</td><td>-1.244332</td><td>-1.436673</td></tr><tr><td>&quot;2006-01-01&quot;</td><td>-0.539453</td><td>0.923421</td><td>-0.294911</td><td>1.034957</td><td>-0.54003</td><td>-1.904797</td><td>-1.126413</td><td>-0.837808</td><td>0.220006</td><td>0.16879</td><td>-1.04084</td><td>-2.826402</td><td>0.207938</td><td>0.412733</td><td>-1.803863</td><td>-1.326841</td><td>0.358129</td><td>0.860106</td><td>-0.636888</td><td>0.28838</td><td>-2.034078</td><td>0.902736</td><td>1.252706</td><td>0.841324</td><td>0.926922</td><td>-0.908794</td><td>-0.522424</td><td>-2.139077</td><td>-0.278218</td><td>-0.244654</td><td>-0.237762</td><td>0.208512</td><td>0.490835</td><td>-1.78466</td><td>-1.252868</td><td>-1.345312</td></tr><tr><td>&quot;2007-01-01&quot;</td><td>-0.666659</td><td>0.975391</td><td>-0.357948</td><td>1.007011</td><td>-0.500554</td><td>-1.806527</td><td>-1.150586</td><td>-0.552382</td><td>0.302845</td><td>0.256655</td><td>-0.93164</td><td>-2.771051</td><td>0.647997</td><td>0.620644</td><td>-2.119095</td><td>-1.24484</td><td>0.747058</td><td>0.617986</td><td>-0.729852</td><td>0.193307</td><td>-2.014056</td><td>0.778469</td><td>1.145553</td><td>0.939814</td><td>0.952528</td><td>-0.863383</td><td>-0.467305</td><td>-2.362725</td><td>-0.339876</td><td>0.277233</td><td>-0.188574</td><td>0.158262</td><td>0.374478</td><td>-1.362033</td><td>-1.22967</td><td>-1.594252</td></tr><tr><td>&quot;2008-01-01&quot;</td><td>-0.361787</td><td>0.696018</td><td>-0.313425</td><td>1.041373</td><td>-0.493088</td><td>-1.853462</td><td>-1.095846</td><td>-0.510432</td><td>0.261875</td><td>0.207544</td><td>-0.939875</td><td>-2.466897</td><td>0.626638</td><td>0.501768</td><td>-1.876609</td><td>-1.283122</td><td>0.808881</td><td>0.640764</td><td>-0.804012</td><td>0.108542</td><td>-1.860712</td><td>0.863552</td><td>1.285434</td><td>0.922187</td><td>1.114877</td><td>-0.749934</td><td>-0.336524</td><td>-2.485348</td><td>-0.339036</td><td>0.537688</td><td>-0.117301</td><td>0.099821</td><td>0.58266</td><td>-1.207106</td><td>-1.312439</td><td>-2.012794</td></tr><tr><td>&quot;2009-01-01&quot;</td><td>-0.347592</td><td>0.919041</td><td>0.163664</td><td>1.127076</td><td>-0.451781</td><td>-1.832346</td><td>-1.196913</td><td>-0.607227</td><td>0.140439</td><td>0.373302</td><td>-1.564242</td><td>-2.174708</td><td>0.776816</td><td>0.353407</td><td>-1.561697</td><td>-1.050555</td><td>0.831897</td><td>0.685754</td><td>-0.686628</td><td>-0.041661</td><td>-1.994554</td><td>0.945019</td><td>1.276533</td><td>0.826833</td><td>1.223285</td><td>-0.969927</td><td>-0.492535</td><td>-2.647074</td><td>-0.509101</td><td>0.485473</td><td>-0.141767</td><td>0.059612</td><td>0.447314</td><td>-0.950553</td><td>-1.277789</td><td>-2.329021</td></tr><tr><td>&quot;2010-01-01&quot;</td><td>-0.226182</td><td>0.801758</td><td>0.013476</td><td>0.936318</td><td>-0.657061</td><td>-1.537185</td><td>-1.259368</td><td>-0.898418</td><td>0.299279</td><td>0.236128</td><td>-1.630592</td><td>-2.239267</td><td>0.522972</td><td>0.451989</td><td>-1.625015</td><td>-0.468525</td><td>0.028088</td><td>0.790276</td><td>-0.726463</td><td>0.143352</td><td>-2.211123</td><td>0.94075</td><td>1.332312</td><td>0.590242</td><td>1.153856</td><td>-0.929459</td><td>-0.226727</td><td>-2.665278</td><td>-0.80579</td><td>0.334106</td><td>-0.050823</td><td>-0.063976</td><td>0.438404</td><td>-0.720438</td><td>-1.256237</td><td>-2.423716</td></tr><tr><td>&quot;2011-01-01&quot;</td><td>-0.369238</td><td>0.912176</td><td>-0.132575</td><td>1.077176</td><td>-0.602055</td><td>-1.284656</td><td>-1.360561</td><td>-1.437057</td><td>0.384891</td><td>0.150344</td><td>-1.421768</td><td>-1.846984</td><td>-0.338571</td><td>0.311103</td><td>-1.558288</td><td>-0.42737</td><td>-1.287379</td><td>0.849078</td><td>-0.667769</td><td>0.07741</td><td>-1.956455</td><td>1.113631</td><td>1.337977</td><td>0.43244</td><td>1.174731</td><td>-0.998262</td><td>-0.4648</td><td>-2.522917</td><td>-2.012107</td><td>0.234129</td><td>0.14108</td><td>-0.353742</td><td>0.591247</td><td>-0.599719</td><td>-1.094046</td><td>-2.426796</td></tr><tr><td>&quot;2012-01-01&quot;</td><td>-0.389323</td><td>0.863251</td><td>0.045962</td><td>1.113016</td><td>-0.538782</td><td>-1.40181</td><td>-1.325043</td><td>-1.43633</td><td>0.293291</td><td>0.232703</td><td>-1.323926</td><td>-1.93405</td><td>-0.408455</td><td>0.203606</td><td>-1.664812</td><td>-0.484477</td><td>-1.58696</td><td>0.893706</td><td>-0.662454</td><td>-0.005212</td><td>-2.042074</td><td>1.187465</td><td>1.32747</td><td>0.462077</td><td>1.223599</td><td>-0.817713</td><td>-0.480688</td><td>-2.260563</td><td>-2.682274</td><td>0.428088</td><td>0.104278</td><td>-0.721317</td><td>0.632442</td><td>-0.518739</td><td>-1.027133</td><td>-2.430663</td></tr><tr><td>&quot;2013-01-01&quot;</td><td>-0.391233</td><td>0.894792</td><td>-0.258553</td><td>1.061422</td><td>-0.54379</td><td>-1.291972</td><td>-1.202371</td><td>-1.638831</td><td>0.330103</td><td>0.120355</td><td>-1.249687</td><td>-2.01139</td><td>-0.402474</td><td>0.166056</td><td>-1.690353</td><td>-0.475507</td><td>-1.844077</td><td>0.853358</td><td>-0.714224</td><td>0.051792</td><td>-2.088478</td><td>1.143815</td><td>1.352092</td><td>0.45953</td><td>1.212546</td><td>-0.736094</td><td>-0.431784</td><td>-2.19301</td><td>-2.681143</td><td>0.249095</td><td>0.093686</td><td>-0.902563</td><td>0.643073</td><td>-0.536079</td><td>-1.077632</td><td>-2.374828</td></tr><tr><td>&quot;2014-01-01&quot;</td><td>-0.333232</td><td>0.768909</td><td>-0.07029</td><td>1.175504</td><td>-0.522584</td><td>-1.114594</td><td>-1.190535</td><td>-1.631177</td><td>0.149543</td><td>-0.374147</td><td>-0.874988</td><td>-2.480338</td><td>0.036018</td><td>0.149007</td><td>-1.697941</td><td>-0.61545</td><td>-2.353407</td><td>0.81645</td><td>-0.853919</td><td>0.266619</td><td>-2.130276</td><td>1.045115</td><td>1.119959</td><td>0.734907</td><td>0.977458</td><td>-0.943617</td><td>-0.285845</td><td>-2.363085</td><td>-2.748824</td><td>0.074206</td><td>0.247864</td><td>-0.851662</td><td>0.58242</td><td>-0.273109</td><td>-0.852002</td><td>-2.665575</td></tr><tr><td>&quot;2015-01-01&quot;</td><td>-0.505386</td><td>0.748049</td><td>-0.331864</td><td>1.262337</td><td>-0.55256</td><td>-1.072664</td><td>-1.090787</td><td>-1.499332</td><td>0.015247</td><td>-0.207799</td><td>-0.924847</td><td>-2.25078</td><td>-0.038353</td><td>-0.219549</td><td>-1.698364</td><td>-0.817833</td><td>-2.189651</td><td>0.837735</td><td>-0.80178</td><td>0.253947</td><td>-1.921705</td><td>0.91254</td><td>1.14562</td><td>0.778052</td><td>0.983597</td><td>-1.032223</td><td>-0.634387</td><td>-2.155153</td><td>-2.965177</td><td>-0.089571</td><td>0.279361</td><td>-0.960177</td><td>0.66289</td><td>-0.374532</td><td>-0.97167</td><td>-2.668016</td></tr><tr><td>&quot;2016-01-01&quot;</td><td>-0.32158</td><td>0.549646</td><td>-0.381035</td><td>1.240412</td><td>-0.502221</td><td>-0.887164</td><td>-1.099742</td><td>-1.439727</td><td>-0.110106</td><td>-0.146743</td><td>-0.814021</td><td>-2.303333</td><td>0.001463</td><td>-0.056501</td><td>-1.615684</td><td>-0.441768</td><td>-2.274738</td><td>0.998592</td><td>-0.633718</td><td>0.129486</td><td>-1.873889</td><td>0.896933</td><td>1.181621</td><td>0.749766</td><td>0.884124</td><td>-0.947688</td><td>-0.472771</td><td>-2.331106</td><td>-2.906036</td><td>-0.195148</td><td>0.277258</td><td>-1.139722</td><td>0.385635</td><td>-0.280754</td><td>-1.022977</td><td>-2.784489</td></tr><tr><td>&quot;2017-01-01&quot;</td><td>-0.389135</td><td>0.601949</td><td>-0.480094</td><td>1.08968</td><td>-0.232558</td><td>-0.779458</td><td>-0.919614</td><td>-1.429645</td><td>-0.105891</td><td>-0.17202</td><td>-0.933829</td><td>-2.295948</td><td>0.024372</td><td>-0.05123</td><td>-1.622227</td><td>-0.320535</td><td>-2.353575</td><td>0.97461</td><td>-0.806073</td><td>0.111209</td><td>-1.996717</td><td>0.907122</td><td>1.1507</td><td>0.749312</td><td>0.647982</td><td>-0.64276</td><td>-0.649576</td><td>-1.971524</td><td>-2.612918</td><td>-0.128824</td><td>0.269298</td><td>-1.02349</td><td>0.262202</td><td>-0.244979</td><td>-1.251514</td><td>-2.934315</td></tr><tr><td>&quot;2018-01-01&quot;</td><td>-0.347751</td><td>0.689087</td><td>-0.45964</td><td>0.963774</td><td>-0.298642</td><td>-0.80696</td><td>-0.842122</td><td>-1.188101</td><td>-0.257414</td><td>-0.090242</td><td>-1.342144</td><td>-2.520958</td><td>-0.052699</td><td>0.090534</td><td>-1.621536</td><td>-0.203765</td><td>-2.434969</td><td>0.993263</td><td>-0.673981</td><td>0.247989</td><td>-2.097414</td><td>0.838097</td><td>1.120636</td><td>0.642036</td><td>0.649284</td><td>-0.538376</td><td>-0.660841</td><td>-1.821778</td><td>-2.736279</td><td>-0.012979</td><td>0.230617</td><td>-0.868219</td><td>0.386043</td><td>-0.30447</td><td>-1.351442</td><td>-2.996031</td></tr><tr><td>&quot;2019-01-01&quot;</td><td>-0.370095</td><td>0.667445</td><td>-0.714394</td><td>0.994818</td><td>-0.259811</td><td>-0.979467</td><td>-1.05583</td><td>-1.124602</td><td>-0.075141</td><td>-0.147936</td><td>-1.711465</td><td>-2.609148</td><td>-0.16798</td><td>0.175114</td><td>-1.672291</td><td>-0.339135</td><td>-2.565771</td><td>0.906494</td><td>-0.843629</td><td>0.146066</td><td>-1.933071</td><td>0.821221</td><td>1.141986</td><td>0.589169</td><td>0.684276</td><td>-0.551099</td><td>-0.623456</td><td>-1.696198</td><td>-2.730331</td><td>-0.17815</td><td>0.081537</td><td>-0.877073</td><td>0.117877</td><td>-0.296665</td><td>-1.539181</td><td>-2.770874</td></tr><tr><td>&quot;2020-01-01&quot;</td><td>-0.600726</td><td>0.592547</td><td>-0.445607</td><td>1.013105</td><td>-0.473099</td><td>-0.701151</td><td>-0.847814</td><td>-1.181912</td><td>-0.065802</td><td>-0.221583</td><td>-1.699162</td><td>-2.47469</td><td>-0.25763</td><td>0.22519</td><td>-1.621135</td><td>-0.314183</td><td>-2.462278</td><td>0.86466</td><td>-0.791369</td><td>0.124463</td><td>-1.891961</td><td>0.830864</td><td>1.221519</td><td>0.419729</td><td>0.669544</td><td>-0.667409</td><td>-0.650508</td><td>-1.657064</td><td>-2.711758</td><td>-0.201664</td><td>0.110377</td><td>-0.594331</td><td>-0.026929</td><td>-0.43671</td><td>-1.551987</td><td>-2.647646</td></tr><tr><td>&quot;2021-01-01&quot;</td><td>-0.709369</td><td>0.597461</td><td>-0.419697</td><td>0.962196</td><td>-0.516729</td><td>-0.954558</td><td>-0.992437</td><td>-1.032841</td><td>-0.075773</td><td>-0.202781</td><td>-1.584385</td><td>-2.384559</td><td>-0.231328</td><td>0.262983</td><td>-1.481945</td><td>-0.286362</td><td>-2.308346</td><td>0.831885</td><td>-0.688361</td><td>0.058754</td><td>-1.787299</td><td>0.892924</td><td>1.088475</td><td>0.431888</td><td>0.833261</td><td>-0.707902</td><td>-0.591131</td><td>-1.987572</td><td>-2.659493</td><td>-0.332011</td><td>0.239029</td><td>-0.756551</td><td>-0.014878</td><td>-0.252974</td><td>-1.453888</td><td>-2.58031</td></tr><tr><td>&quot;2022-01-01&quot;</td><td>-0.646241</td><td>0.700785</td><td>-0.331466</td><td>0.772814</td><td>-0.441074</td><td>-0.641926</td><td>-0.741772</td><td>-1.028057</td><td>0.069895</td><td>-0.074254</td><td>-1.586439</td><td>-2.473925</td><td>-0.356833</td><td>0.281217</td><td>-1.473512</td><td>-0.2916</td><td>-2.197963</td><td>0.869226</td><td>-0.69196</td><td>0.140358</td><td>-1.798141</td><td>0.717305</td><td>0.860958</td><td>0.529911</td><td>0.958558</td><td>-0.918995</td><td>-0.362989</td><td>-1.998894</td><td>-2.797252</td><td>-0.100281</td><td>0.357975</td><td>-0.596295</td><td>-0.036005</td><td>-0.196215</td><td>-1.256462</td><td>-2.47688</td></tr></tbody></table></div>"
      ],
      "text/plain": [
       "shape: (24, 37)\n",
       "┌───────────┬───────────┬──────────┬───────────┬───┬───────────┬───────────┬───────────┬───────────┐\n",
       "│ period    ┆ PSIAGO    ┆ PSIARE   ┆ PSIBRA    ┆ … ┆ PSIUSA    ┆ PSIUZB    ┆ PSIVEN    ┆ PSIYEM    │\n",
       "│ ---       ┆ ---       ┆ ---      ┆ ---       ┆   ┆ ---       ┆ ---       ┆ ---       ┆ ---       │\n",
       "│ str       ┆ f64       ┆ f64      ┆ f64       ┆   ┆ f64       ┆ f64       ┆ f64       ┆ f64       │\n",
       "╞═══════════╪═══════════╪══════════╪═══════════╪═══╪═══════════╪═══════════╪═══════════╪═══════════╡\n",
       "│ 1996-01-0 ┆ -2.061917 ┆ 0.964015 ┆ -0.22046  ┆ … ┆ 0.935006  ┆ -0.543732 ┆ -0.584048 ┆ -1.311538 │\n",
       "│ 1         ┆           ┆          ┆           ┆   ┆           ┆           ┆           ┆           │\n",
       "│ 1998-01-0 ┆ -2.318058 ┆ 0.871309 ┆ -0.339506 ┆ … ┆ 0.879613  ┆ -0.683049 ┆ -0.537717 ┆ -1.192847 │\n",
       "│ 1         ┆           ┆          ┆           ┆   ┆           ┆           ┆           ┆           │\n",
       "│ 2000-01-0 ┆ -2.038174 ┆ 0.975434 ┆ 0.184102  ┆ … ┆ 1.082809  ┆ -1.30195  ┆ -0.758917 ┆ -1.145441 │\n",
       "│ 1         ┆           ┆          ┆           ┆   ┆           ┆           ┆           ┆           │\n",
       "│ 2002-01-0 ┆ -1.57618  ┆ 0.937275 ┆ 0.3278    ┆ … ┆ 0.285477  ┆ -1.056884 ┆ -1.317897 ┆ -1.30688  │\n",
       "│ 1         ┆           ┆          ┆           ┆   ┆           ┆           ┆           ┆           │\n",
       "│ …         ┆ …         ┆ …        ┆ …         ┆ … ┆ …         ┆ …         ┆ …         ┆ …         │\n",
       "│ 2019-01-0 ┆ -0.370095 ┆ 0.667445 ┆ -0.714394 ┆ … ┆ 0.117877  ┆ -0.296665 ┆ -1.539181 ┆ -2.770874 │\n",
       "│ 1         ┆           ┆          ┆           ┆   ┆           ┆           ┆           ┆           │\n",
       "│ 2020-01-0 ┆ -0.600726 ┆ 0.592547 ┆ -0.445607 ┆ … ┆ -0.026929 ┆ -0.43671  ┆ -1.551987 ┆ -2.647646 │\n",
       "│ 1         ┆           ┆          ┆           ┆   ┆           ┆           ┆           ┆           │\n",
       "│ 2021-01-0 ┆ -0.709369 ┆ 0.597461 ┆ -0.419697 ┆ … ┆ -0.014878 ┆ -0.252974 ┆ -1.453888 ┆ -2.58031  │\n",
       "│ 1         ┆           ┆          ┆           ┆   ┆           ┆           ┆           ┆           │\n",
       "│ 2022-01-0 ┆ -0.646241 ┆ 0.700785 ┆ -0.331466 ┆ … ┆ -0.036005 ┆ -0.196215 ┆ -1.256462 ┆ -2.47688  │\n",
       "│ 1         ┆           ┆          ┆           ┆   ┆           ┆           ┆           ┆           │\n",
       "└───────────┴───────────┴──────────┴───────────┴───┴───────────┴───────────┴───────────┴───────────┘"
      ]
     },
     "execution_count": 25,
     "metadata": {},
     "output_type": "execute_result"
    }
   ],
   "source": [
    "import os \n",
    "import polars as pl\n",
    "from functools import reduce\n",
    "macro_data = list(filter(lambda x: x.startswith(\"Political\"), os.listdir(\"macro_data\")))\n",
    "\n",
    "def reduce_join (list_of_data: list, on: str):\n",
    "    return reduce(lambda x,y: x.join(y, on=on, how=\"inner\"), list_of_data)\n",
    "\n",
    "political_stability_data = reduce_join([pl.read_csv(f\"macro_data/{data}\").rename({\"value\": filter_uppercase(data)}) for data in macro_data], \"period\")\n",
    "# "
   ]
  },
  {
   "cell_type": "code",
   "execution_count": 4,
   "metadata": {},
   "outputs": [
    {
     "data": {
      "text/html": [
       "<div>\n",
       "<style scoped>\n",
       "    .dataframe tbody tr th:only-of-type {\n",
       "        vertical-align: middle;\n",
       "    }\n",
       "\n",
       "    .dataframe tbody tr th {\n",
       "        vertical-align: top;\n",
       "    }\n",
       "\n",
       "    .dataframe thead th {\n",
       "        text-align: right;\n",
       "    }\n",
       "</style>\n",
       "<table border=\"1\" class=\"dataframe\">\n",
       "  <thead>\n",
       "    <tr style=\"text-align: right;\">\n",
       "      <th></th>\n",
       "      <th>Date</th>\n",
       "      <th>Open</th>\n",
       "      <th>High</th>\n",
       "      <th>Low</th>\n",
       "      <th>Close</th>\n",
       "      <th>Adj Close</th>\n",
       "      <th>Volume</th>\n",
       "    </tr>\n",
       "  </thead>\n",
       "  <tbody>\n",
       "    <tr>\n",
       "      <th>0</th>\n",
       "      <td>2017-01-03</td>\n",
       "      <td>54.200001</td>\n",
       "      <td>55.240002</td>\n",
       "      <td>52.110001</td>\n",
       "      <td>52.330002</td>\n",
       "      <td>52.330002</td>\n",
       "      <td>727793</td>\n",
       "    </tr>\n",
       "    <tr>\n",
       "      <th>1</th>\n",
       "      <td>2017-01-04</td>\n",
       "      <td>52.490002</td>\n",
       "      <td>53.430000</td>\n",
       "      <td>52.150002</td>\n",
       "      <td>53.259998</td>\n",
       "      <td>53.259998</td>\n",
       "      <td>512641</td>\n",
       "    </tr>\n",
       "    <tr>\n",
       "      <th>2</th>\n",
       "      <td>2017-01-05</td>\n",
       "      <td>53.389999</td>\n",
       "      <td>54.119999</td>\n",
       "      <td>52.790001</td>\n",
       "      <td>53.759998</td>\n",
       "      <td>53.759998</td>\n",
       "      <td>517362</td>\n",
       "    </tr>\n",
       "    <tr>\n",
       "      <th>3</th>\n",
       "      <td>2017-01-06</td>\n",
       "      <td>53.730000</td>\n",
       "      <td>54.320000</td>\n",
       "      <td>53.320000</td>\n",
       "      <td>53.990002</td>\n",
       "      <td>53.990002</td>\n",
       "      <td>528333</td>\n",
       "    </tr>\n",
       "    <tr>\n",
       "      <th>4</th>\n",
       "      <td>2017-01-09</td>\n",
       "      <td>53.750000</td>\n",
       "      <td>53.830002</td>\n",
       "      <td>51.759998</td>\n",
       "      <td>51.959999</td>\n",
       "      <td>51.959999</td>\n",
       "      <td>564893</td>\n",
       "    </tr>\n",
       "    <tr>\n",
       "      <th>...</th>\n",
       "      <td>...</td>\n",
       "      <td>...</td>\n",
       "      <td>...</td>\n",
       "      <td>...</td>\n",
       "      <td>...</td>\n",
       "      <td>...</td>\n",
       "      <td>...</td>\n",
       "    </tr>\n",
       "    <tr>\n",
       "      <th>1886</th>\n",
       "      <td>2024-07-02</td>\n",
       "      <td>83.430000</td>\n",
       "      <td>84.379997</td>\n",
       "      <td>82.720001</td>\n",
       "      <td>82.809998</td>\n",
       "      <td>82.809998</td>\n",
       "      <td>367787</td>\n",
       "    </tr>\n",
       "    <tr>\n",
       "      <th>1887</th>\n",
       "      <td>2024-07-03</td>\n",
       "      <td>83.199997</td>\n",
       "      <td>83.930000</td>\n",
       "      <td>82.459999</td>\n",
       "      <td>83.879997</td>\n",
       "      <td>83.879997</td>\n",
       "      <td>289685</td>\n",
       "    </tr>\n",
       "    <tr>\n",
       "      <th>1888</th>\n",
       "      <td>2024-07-05</td>\n",
       "      <td>83.599998</td>\n",
       "      <td>84.519997</td>\n",
       "      <td>83.019997</td>\n",
       "      <td>83.160004</td>\n",
       "      <td>83.160004</td>\n",
       "      <td>361357</td>\n",
       "    </tr>\n",
       "    <tr>\n",
       "      <th>1889</th>\n",
       "      <td>2024-07-08</td>\n",
       "      <td>83.150002</td>\n",
       "      <td>83.320000</td>\n",
       "      <td>82.080002</td>\n",
       "      <td>82.330002</td>\n",
       "      <td>82.330002</td>\n",
       "      <td>361357</td>\n",
       "    </tr>\n",
       "    <tr>\n",
       "      <th>1890</th>\n",
       "      <td>2024-07-09</td>\n",
       "      <td>82.220001</td>\n",
       "      <td>82.480003</td>\n",
       "      <td>81.250000</td>\n",
       "      <td>81.669998</td>\n",
       "      <td>81.669998</td>\n",
       "      <td>198578</td>\n",
       "    </tr>\n",
       "  </tbody>\n",
       "</table>\n",
       "<p>1891 rows × 7 columns</p>\n",
       "</div>"
      ],
      "text/plain": [
       "           Date       Open       High        Low      Close  Adj Close  Volume\n",
       "0    2017-01-03  54.200001  55.240002  52.110001  52.330002  52.330002  727793\n",
       "1    2017-01-04  52.490002  53.430000  52.150002  53.259998  53.259998  512641\n",
       "2    2017-01-05  53.389999  54.119999  52.790001  53.759998  53.759998  517362\n",
       "3    2017-01-06  53.730000  54.320000  53.320000  53.990002  53.990002  528333\n",
       "4    2017-01-09  53.750000  53.830002  51.759998  51.959999  51.959999  564893\n",
       "...         ...        ...        ...        ...        ...        ...     ...\n",
       "1886 2024-07-02  83.430000  84.379997  82.720001  82.809998  82.809998  367787\n",
       "1887 2024-07-03  83.199997  83.930000  82.459999  83.879997  83.879997  289685\n",
       "1888 2024-07-05  83.599998  84.519997  83.019997  83.160004  83.160004  361357\n",
       "1889 2024-07-08  83.150002  83.320000  82.080002  82.330002  82.330002  361357\n",
       "1890 2024-07-09  82.220001  82.480003  81.250000  81.669998  81.669998  198578\n",
       "\n",
       "[1891 rows x 7 columns]"
      ]
     },
     "execution_count": 4,
     "metadata": {},
     "output_type": "execute_result"
    }
   ],
   "source": [
    "oil.data"
   ]
  },
  {
   "cell_type": "code",
   "execution_count": null,
   "metadata": {},
   "outputs": [],
   "source": []
  }
 ],
 "metadata": {
  "kernelspec": {
   "display_name": "Python 3 (ipykernel)",
   "language": "python",
   "name": "python3"
  },
  "language_info": {
   "codemirror_mode": {
    "name": "ipython",
    "version": 3
   },
   "file_extension": ".py",
   "mimetype": "text/x-python",
   "name": "python",
   "nbconvert_exporter": "python",
   "pygments_lexer": "ipython3",
   "version": "3.12.0"
  }
 },
 "nbformat": 4,
 "nbformat_minor": 4
}
