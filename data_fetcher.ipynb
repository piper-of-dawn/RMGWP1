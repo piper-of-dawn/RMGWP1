{
 "cells": [
  {
   "cell_type": "code",
   "execution_count": 11,
   "metadata": {},
   "outputs": [],
   "source": [
    "from prettyprinter import pprint\n",
    "import polars as pl\n",
    "import asyncio\n",
    "import httpx"
   ]
  },
  {
   "cell_type": "code",
   "execution_count": 12,
   "metadata": {},
   "outputs": [],
   "source": [
    "series_ids = [\n",
    "    \"STEO.RGDPQ_NONOECD.M\",\n",
    "    \"STEO.RGDPQ_OECD.M\",\n",
    "    \"STEO.PAPR_NONOPEC.M\",\n",
    "    \"STEO.PAPR_OPEC.M\",\n",
    "    \"STEO.PATC_OECD.M\",\n",
    "    \"STEO.PATC_NON_OECD.M\",\n",
    "    \"STEO.COPRPUS.M\",\n",
    "    \"STEO.CORIPUS.M\",\n",
    "    \"STEO.FOREX_WORLD.M\",\n",
    "    \"STEO.PASC_OECD_T3.M\",\n",
    "    \"STEO.COPS_OPEC.M\",\n",
    "    \"STEO.COPC_OPEC.M\",\n",
    "    \"STEO.T3_STCHANGE_OOECD.M\",\n",
    "    \"STEO.T3_STCHANGE_NOECD.M\"\n",
    "]\n",
    "\n",
    "X_Params = {\n",
    "    \"frequency\": \"monthly\",\n",
    "    \"data\": [\n",
    "        \"value\"\n",
    "    ],\n",
    "    \"facets\": {},\n",
    "    \"start\": \"2000-01\",\n",
    "    \"end\": \"2024-01\",\n",
    "    \"sort\": [\n",
    "        {\n",
    "            \"column\": \"period\",\n",
    "            \"direction\": \"desc\"\n",
    "        }\n",
    "    ],\n",
    "    \"offset\": 0,\n",
    "\n",
    "}\n",
    "\n",
    "API_KEY = \"caGyhsgCC3brWOYqKDFMtPc16VPABFzHr3PIfHf7\""
   ]
  },
  {
   "cell_type": "code",
   "execution_count": 13,
   "metadata": {},
   "outputs": [],
   "source": [
    "async def fetch_eia_data(series_id: str, headers: dict = {}):\n",
    "    url = f\"https://api.eia.gov/v2/seriesid/{series_id}?api_key={API_KEY}\"\n",
    "    async with httpx.AsyncClient() as client:\n",
    "        response = await client.get(url)\n",
    "        response.raise_for_status()  \n",
    "        return response.json()\n",
    "\n",
    "\n",
    "async def get_all_data (list_of_series_id: list, headers: dict = {}):\n",
    "    tasks = [fetch_eia_data(series_id, headers) for series_id in list_of_series_id]\n",
    "    return await asyncio.gather(*tasks)\n",
    "\n",
    "\n",
    "responses = await get_all_data(list_of_series_id=series_ids,headers=X_Params)\n",
    "DATA = list(map(lambda x: pl.DataFrame(x['response']['data']), filter(lambda x: len(x['response']['data']), responses)))"
   ]
  },
  {
   "cell_type": "code",
   "execution_count": 9,
   "metadata": {},
   "outputs": [],
   "source": [
    "metadata = {\n",
    "    \"series_id\": list(map(lambda x: x['seriesId'][0], DATA)),\n",
    "    \"description\": list(map(lambda x: x['seriesDescription'][0], DATA)),\n",
    "    \"unit\": list(map(lambda x: x['unit'][0], DATA)),\n",
    "    \"n_observations\": list(map(lambda x: x.shape[0], DATA)),\n",
    "    }\n"
   ]
  },
  {
   "cell_type": "code",
   "execution_count": 10,
   "metadata": {},
   "outputs": [
    {
     "name": "stdout",
     "output_type": "stream",
     "text": [
      "| series_id         | description                                                             | unit                           |   n_observations |\n",
      "|:------------------|:------------------------------------------------------------------------|:-------------------------------|-----------------:|\n",
      "| PAPR_NONOPEC      | Total non-OPEC Liquids Petroleum Production                             | million barrels per day        |              396 |\n",
      "| PAPR_OPEC         | Total OPEC Petroleum Supply                                             | million barrels per day        |              396 |\n",
      "| PATC_OECD         | Liquid Fuels Consumption, Total OECD                                    | million barrels per day        |              432 |\n",
      "| PATC_NON_OECD     | Liquid Fuels Consumption, Total non-OECD                                | million barrels per day        |              432 |\n",
      "| COPRPUS           | U.S. Crude Oil Production                                               | million barrels per day        |              432 |\n",
      "| CORIPUS           | Crude OIl Refinery Input                                                | million barrels per day        |              432 |\n",
      "| PASC_OECD_T3      | OECD End-of-period Commercial Crude Oil and Other Liquids Inventory     | million barrels, end-of-period |              276 |\n",
      "| COPS_OPEC         | OPEC Total Spare Crude Oil Production Capacity                          | million barrels per day        |              396 |\n",
      "| COPC_OPEC         | OPEC Total Crude Oil Production Capacity                                | million barrels per day        |              432 |\n",
      "| T3_STCHANGE_OOECD | Net Inventory Withdrawals, Total Other OECD Crude Oil and Other Liquids | million barrels per day        |              275 |\n",
      "| T3_STCHANGE_NOECD | Net Inventory Withdrawals, Total Non-OECD Crude Oil and Other Liquids   | million barrels per day        |              275 |\n"
     ]
    }
   ],
   "source": [
    "print(pl.DataFrame(metadata).to_pandas().to_markdown(index=False))"
   ]
  },
  {
   "cell_type": "code",
   "execution_count": 16,
   "metadata": {},
   "outputs": [],
   "source": [
    "import pickle\n",
    "with open(\"DATA.pkl\", \"wb\") as f:\n",
    "    pickle.dump(list(map(lambda x: x.to_pandas(), DATA)), f)"
   ]
  },
  {
   "cell_type": "code",
   "execution_count": 17,
   "metadata": {},
   "outputs": [],
   "source": [
    "with open(\"DATA.pkl\", \"rb\") as f:\n",
    "    DATA_TEST = pickle.load(f)"
   ]
  },
  {
   "cell_type": "code",
   "execution_count": null,
   "metadata": {},
   "outputs": [],
   "source": []
  }
 ],
 "metadata": {
  "kernelspec": {
   "display_name": "Python 3",
   "language": "python",
   "name": "python3"
  },
  "language_info": {
   "codemirror_mode": {
    "name": "ipython",
    "version": 3
   },
   "file_extension": ".py",
   "mimetype": "text/x-python",
   "name": "python",
   "nbconvert_exporter": "python",
   "pygments_lexer": "ipython3",
   "version": "3.12.0"
  }
 },
 "nbformat": 4,
 "nbformat_minor": 2
}
