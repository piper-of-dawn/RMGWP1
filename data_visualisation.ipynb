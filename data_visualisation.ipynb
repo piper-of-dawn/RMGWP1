{
 "cells": [
  {
   "cell_type": "code",
   "execution_count": null,
   "metadata": {},
   "outputs": [],
   "source": [
    "from importlib import reload\n",
    "import pandas as pd\n",
    "import visualisation\n",
    "reload(visualisation)\n",
    "from visualisation import multivariate_density"
   ]
  },
  {
   "cell_type": "code",
   "execution_count": null,
   "metadata": {},
   "outputs": [],
   "source": [
    "import pickle\n",
    "with open(\"DATA.pkl\", \"rb\") as f:\n",
    "    DATA = pickle.load(f)\n",
    "\n",
    "metadata = {\n",
    "    \"series_id\": list(map(lambda x: x['seriesId'][0], DATA)),\n",
    "    \"description\": list(map(lambda x: x['seriesDescription'][0], DATA)),\n",
    "    \"unit\": list(map(lambda x: x['unit'][0], DATA)),\n",
    "    \"n_observations\": list(map(lambda x: x.shape[0], DATA)),\n",
    "    }"
   ]
  },
  {
   "cell_type": "code",
   "execution_count": null,
   "metadata": {},
   "outputs": [],
   "source": [
    "metadata = pd.DataFrame(metadata)\n",
    "metadata"
   ]
  },
  {
   "cell_type": "code",
   "execution_count": null,
   "metadata": {},
   "outputs": [],
   "source": [
    "from functools import reduce\n",
    "def fold_join(df1, df2):\n",
    "    df2 = df2.rename(columns={'value':  df2['seriesDescription'][0]})\n",
    "    return pd.merge(df1, df2[['period', df2['seriesDescription'][0]]], on='period')\n",
    "# Perform the fold join operation using reduce\n",
    "final_df = reduce(fold_join, DATA)\n",
    "final_df = final_df.set_index('period').rename(columns={'value': DATA[0]['seriesDescription'][0]}).drop(['seriesDescription','seriesId','unit'], axis=1).sort_index()\n"
   ]
  },
  {
   "cell_type": "code",
   "execution_count": null,
   "metadata": {},
   "outputs": [],
   "source": [
    "from itertools import combinations\n",
    "pairs = list(combinations(final_df.columns, 2))"
   ]
  },
  {
   "cell_type": "code",
   "execution_count": null,
   "metadata": {},
   "outputs": [],
   "source": [
    "corr_matrix = final_df.corr().abs()\n",
    "mask = (corr_matrix > 0.4) & (corr_matrix < 1.0)\n",
    "high_correlations = []\n",
    "for col in mask.columns:\n",
    "        correlated_cols = mask.index[mask[col]]\n",
    "        for correlated_col in correlated_cols:\n",
    "            if correlated_col != col:\n",
    "                high_correlations.append((col, correlated_col))"
   ]
  },
  {
   "cell_type": "code",
   "execution_count": null,
   "metadata": {},
   "outputs": [],
   "source": [
    "for col1, col2 in high_correlations:  \n",
    "    multivariate_density(x=final_df[col1], y=final_df[col2], \n",
    "                     x_label=col1, y_label=col2, title=\"Multi-variate density plot\").savefig(f\"multivariate_plots/{col1}_{col2}.png\")\n",
    "\n",
    "\n"
   ]
  }
 ],
 "metadata": {
  "kernelspec": {
   "display_name": "Python 3 (ipykernel)",
   "language": "python",
   "name": "python3"
  },
  "language_info": {
   "codemirror_mode": {
    "name": "ipython",
    "version": 3
   },
   "file_extension": ".py",
   "mimetype": "text/x-python",
   "name": "python",
   "nbconvert_exporter": "python",
   "pygments_lexer": "ipython3",
   "version": "3.12.0"
  }
 },
 "nbformat": 4,
 "nbformat_minor": 4
}
