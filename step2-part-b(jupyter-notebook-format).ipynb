{
 "cells": [
  {
   "cell_type": "markdown",
   "metadata": {},
   "source": [
    "#### Step 2 part b"
   ]
  },
  {
   "cell_type": "markdown",
   "metadata": {},
   "source": [
    "1. Dealing with uncertain and complex relationships: Estimating the price of crude oil requires considering a wide range of interrelated macroeconomic, geopolitical, and market variables. When modeling complex structures with several variables and uncertain interactions, Bayesian networks perform exceptionally well. According to the thesis, the complex relationship of global economic factors determines the price of crude oil. This covers the quantity of oil produced by nations like those in OPEC, the quantities of oil used by the developed economies (OECD), and the continuous political and economic developments that take place globally. Bayesian networks are perfect for depicting the complexities of the oil market because they can capture these complicated interactions and interdependence amongst the variables within a graphical structure.\n",
    "\n",
    "\n",
    "2. Understanding the market structure: One of the primary issues addressed in the thesis is understanding the workings of the oil markets. Bayesian networks are capable of learning a model's structure and parameters from its data. The thesis explores two primary methodologies for structure learning using Bayesian networks:\n",
    "\n",
    "a) Constraint-based learning: This method uses statistical tests to discover conditional independencies amongst variables and then builds a network that fulfills the constraints.\n",
    "\n",
    "b) Score-based learning: This approach examines a set of alternative graph topologies to discover the one that best matches the data based on a scoring system. \n",
    "\n",
    "\n",
    "3. Addressing inaccurate, missing, or incomplete economic and financial information often results in noise. Given that Bayesian networks can execute probabilistic inference with imperfect knowledge, they are resilient to noisy or incomplete data. Due to this, they are especially well-suited for practical uses in financial markets, where data quality might fluctuate.\n",
    "\n",
    "\n",
    "4. Including domain information: Domain expertise can be incorporated into the model using Bayesian networks. This means that domain knowledge from market specialists, energy strategists, and economists can be added to the prior probability or network structure in light of oil price predictions. Expert insight and data-driven learning together have the potential to produce models that are more precise and understandable.\n",
    "\n",
    "\n",
    "5. Probabilistic estimations: Bayesian networks, as opposed to deterministic models, produce probabilistic estimates, which are more valuable for making decisions in unpredictable contexts like financial markets. The goal of the thesis is to present an accurate crude oil price estimate, and belief networks can offer probability distributions and confidence intervals for future oil prices in addition to point estimates.\n",
    "\n",
    "\n",
    "6. Causality: Analyzing the nuances of the oil market requires the ability to depict causal linkages between variables, something Bayesian networks can provide. The aim of establishing a probabilistic graphical model to illustrate the motion of the oil market and establish the causal link between these many variables is addressed in the paper. In the energy industry, this causal reasoning capacity can help with making policies and strategic choices by enabling better interpretation of models.\n",
    "\n",
    "\n",
    "7. Resilience towards fresh data: When new data is accessible, Bayesian networks may be adjusted effectively. This is especially crucial in the oil industry, which is changing swiftly and is susceptible to price changes due to market trends, geopolitical events, and new economic data. Bayesian networks are well-suited for keeping forecasts current because of their capacity to integrate new information and change probability.\n",
    "\n",
    "\n",
    "8. Managing numerous time scales: A variety of time-scale elements, ranging from short-term supply interruptions to long-term changes in the economy, have an impact on the oil market. Bayesian networks can describe temporal relationships and produce multi-quarter predictions, especially when paired with methods like the Dynamic Bayesian Networks or the Hidden Markov Models.\n",
    "\n",
    "\n",
    "9. Research and application: A further issue described in the paper is the research and exploitation of existing data and learned structures for forecasting oil market behavior. Belief networks are appropriate for this purpose because they can effectively execute inference on the structure, enabling both variable exploration and prediction.\n",
    "\n",
    "\n",
    "10. Model credibility: The paper goes on to discuss ways to validate the developed model's performance and dependability. Bayesian networks offer a variety of model validation techniques, like cross-validation, sensitivity analyses, and posterior predictive checks. These strategies can aid in determining the of the model and credibility before implementation in financial markets.\n",
    "\n",
    "\n",
    "11. In contrast to certain black box neural network algorithms, Bayesian networks show the correlations between variables graphically. This interpretability is critical for financial applications, whereby understanding the logic behind forecasts is sometimes as essential as the estimates themselves. The paper seeks to gain insight into the operations of the oil markets and the belief networks aid this purpose by offering perspectives on the market's structure and behavior.\n",
    "\n",
    "\n",
    "12. Nonlinear connections amongst the variables are common in oil pricing. Bayesian networks may capture these nonlinear relationships using conditional probability tables and continuous distributions, resulting in a more accurate picture of the oil market's complex relations.\n",
    "\n",
    "\n",
    "13. With the Bayesian networks, variables may be easily manipulated to perform hypothetical studies and stress tests. This is consistent with the paper's purpose of replicating economic hardship scenarios to test the model's dependability. Analysts can investigate how alternative scenarios may affect oil prices and evaluate how the model performs under various situations by modifying the values or probability of specific variables. The paper addresses using data from a variety of sources, such as the Energy Information Administration (EIA) and the Federal Reserve Economic Data (FRED). Bayesian networks may successfully integrate information from numerous sources, merging disparate datasets to create one unified model of the oil market. Due to the many factors impacting the price of oil, the issue naturally requires data that is highly dimensional. Bayesian networks can effectively produce and infer highly dimensional probability distributions, which makes them ideal for this challenging forecasting challenge."
   ]
  }
 ],
 "metadata": {
  "kernelspec": {
   "display_name": "Python 3 (ipykernel)",
   "language": "python",
   "name": "python3"
  },
  "language_info": {
   "codemirror_mode": {
    "name": "ipython",
    "version": 3
   },
   "file_extension": ".py",
   "mimetype": "text/x-python",
   "name": "python",
   "nbconvert_exporter": "python",
   "pygments_lexer": "ipython3",
   "version": "3.10.9"
  }
 },
 "nbformat": 4,
 "nbformat_minor": 2
}
